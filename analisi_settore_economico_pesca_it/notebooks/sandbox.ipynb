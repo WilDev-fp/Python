{
 "cells": [
  {
   "cell_type": "code",
   "execution_count": null,
   "id": "def8b31f",
   "metadata": {},
   "outputs": [],
   "source": [
    "import sys\n",
    "import os\n",
    "import importlib\n",
    "\n",
    "# Aggiungi la root del progetto (un livello sopra notebooks/) a sys.path\n",
    "sys.path.append(os.path.abspath('..'))\n"
   ]
  },
  {
   "cell_type": "code",
   "execution_count": null,
   "id": "e5680070",
   "metadata": {},
   "outputs": [],
   "source": [
    "import utils.csv_loader\n",
    "importlib.reload(utils.csv_loader)\n",
    "\n",
    "from utils.csv_loader import CsvLoader\n",
    "\n",
    "# Percorso del file CSV (usa path relativo)\n",
    "csv_path = \"../static/Andamento occupazione del settore della pesca per regione_0.csv\"\n",
    "\n",
    "try:\n",
    "    # encoding='latin1'  → Vecchi file Windows/Europa occidentale\n",
    "    # encoding='cp1252'  → Variante Windows, gestisce più simboli (€ ecc.)\n",
    "    # encoding='utf-8-sig' → Da usare se la prima colonna ha caratteri strani (BOM UTF-8), tipico da Excel\n",
    "    # Provare diversi encoding se si vedono caratteri strani nei dati/colonne!\n",
    "    loader = CsvLoader(csv_path,';','utf-8-sig')\n",
    "    df_Andamento = loader.load()\n",
    "    print(\"Dati caricati correttamente:\")\n",
    "    print(df_Andamento.head())\n",
    "except Exception as e:\n",
    "    print(f\"Errore nel caricamento: {e}\")\n",
    "    raise"
   ]
  },
  {
   "cell_type": "code",
   "execution_count": null,
   "id": "7098e4c0",
   "metadata": {},
   "outputs": [],
   "source": [
    "# Percorso del file CSV (usa path relativo)\n",
    "csv_path = \"../static/Importanza economica del settore della pesca per regione.csv\"\n",
    "\n",
    "try:\n",
    "    # encoding='latin1'  → Vecchi file Windows/Europa occidentale\n",
    "    # encoding='cp1252'  → Variante Windows, gestisce più simboli (€ ecc.)\n",
    "    # encoding='utf-8-sig' → Da usare se la prima colonna ha caratteri strani (BOM UTF-8), tipico da Excel\n",
    "    # Provare diversi encoding se si vedono caratteri strani nei dati/colonne!\n",
    "    loader = CsvLoader(csv_path,';','utf-8-sig')\n",
    "    df_Importanza = loader.load()\n",
    "    print(\"Dati caricati correttamente:\")\n",
    "    print(df_Importanza.head())\n",
    "except Exception as e:\n",
    "    print(f\"Errore nel caricamento: {e}\")\n",
    "    raise"
   ]
  },
  {
   "cell_type": "code",
   "execution_count": null,
   "id": "d12ac746",
   "metadata": {},
   "outputs": [],
   "source": [
    "# Percorso del file CSV (usa path relativo)\n",
    "csv_path = \"../static/Produttività del settore della pesca per regione.csv\"\n",
    "\n",
    "try:\n",
    "    # encoding='latin1'  → Vecchi file Windows/Europa occidentale\n",
    "    # encoding='cp1252'  → Variante Windows, gestisce più simboli (€ ecc.)\n",
    "    # encoding='utf-8-sig' → Da usare se la prima colonna ha caratteri strani (BOM UTF-8), tipico da Excel\n",
    "    # Provare diversi encoding se si vedono caratteri strani nei dati/colonne!\n",
    "    loader = CsvLoader(csv_path,';','utf-8-sig')\n",
    "    df_Produttivita = loader.load()\n",
    "    print(\"Dati caricati correttamente:\")\n",
    "    print(df_Produttivita.head())\n",
    "except Exception as e:\n",
    "    print(f\"Errore nel caricamento: {e}\")\n",
    "    raise"
   ]
  },
  {
   "cell_type": "code",
   "execution_count": null,
   "id": "de1a3ca8",
   "metadata": {},
   "outputs": [],
   "source": [
    "print(\"Record iniziali Andamento:\", len(df_Andamento))\n",
    "print(\"Record iniziali Importanza:\", len(df_Importanza))\n",
    "print(\"Record iniziali Produttività:\", len(df_Produttivita))"
   ]
  },
  {
   "cell_type": "code",
   "execution_count": null,
   "id": "67bd38f6",
   "metadata": {},
   "outputs": [],
   "source": [
    "import utils.csv_renamer\n",
    "\n",
    "importlib.reload(utils.csv_renamer)\n",
    "\n",
    "from utils.csv_renamer import CsvRenamer\n",
    "\n",
    "columns_map = {\n",
    "    'Anno': 'anno',\n",
    "    'Regione': 'regione',\n",
    "    'Variazione percentuale  unità di lavoro della pesca': 'variazione_perc_occupazione'\n",
    "}\n",
    "\n",
    "renamer = CsvRenamer(df_Andamento)\n",
    "df_andamento_rinominato = renamer.rename_columns(columns_map)\n",
    "\n",
    "print(df_andamento_rinominato.head())"
   ]
  },
  {
   "cell_type": "code",
   "execution_count": null,
   "id": "071e9425",
   "metadata": {},
   "outputs": [],
   "source": [
    "columns_map = {\n",
    "    'Anno': 'anno',\n",
    "    'Regione': 'regione',\n",
    "    'Percentuale valore aggiunto pesca-piscicoltura-servizi': 'perc_valore_servizi'\n",
    "}\n",
    "\n",
    "renamer = CsvRenamer(df_Importanza)\n",
    "df_importanza_rinominato = renamer.rename_columns(columns_map)\n",
    "\n",
    "print(df_importanza_rinominato.head())"
   ]
  },
  {
   "cell_type": "code",
   "execution_count": null,
   "id": "97cd2e3d",
   "metadata": {},
   "outputs": [],
   "source": [
    "columns_map = {\n",
    "    'Anno': 'anno',\n",
    "    'Regione': 'regione',\n",
    "    'Produttivit� in migliaia di euro': 'produttivita_in_migliaia_euro'\n",
    "}\n",
    "\n",
    "renamer = CsvRenamer(df_Produttivita)\n",
    "df_produttivita_rinominato = renamer.rename_columns(columns_map)\n",
    "\n",
    "print(df_produttivita_rinominato.head())"
   ]
  },
  {
   "cell_type": "code",
   "execution_count": null,
   "id": "51fe7037",
   "metadata": {},
   "outputs": [],
   "source": [
    "import utils.csv_numeric_caster\n",
    "\n",
    "importlib.reload(utils.csv_numeric_caster)\n",
    "\n",
    "from utils.csv_numeric_caster import CsvNumericCaster\n",
    "\n",
    "num_cols = ['anno', 'regione', 'variazione_perc_occupazione']\n",
    "caster = CsvNumericCaster(df_andamento_rinominato)\n",
    "df_andamento_numeric_casted = caster.to_numeric(num_cols)\n",
    "\n",
    "print(df_andamento_numeric_casted.head())"
   ]
  },
  {
   "cell_type": "code",
   "execution_count": null,
   "id": "ca17384a",
   "metadata": {},
   "outputs": [],
   "source": [
    "num_cols = ['anno', 'regione', 'perc_valore_servizi']\n",
    "caster = CsvNumericCaster(df_importanza_rinominato)\n",
    "df_importanza_numeric_casted = caster.to_numeric(num_cols)\n",
    "\n",
    "print(df_importanza_numeric_casted.head())"
   ]
  },
  {
   "cell_type": "code",
   "execution_count": null,
   "id": "c9e73697",
   "metadata": {},
   "outputs": [],
   "source": [
    "num_cols = ['anno', 'regione', 'produttivita_in_migliaia_euro']\n",
    "caster = CsvNumericCaster(df_produttivita_rinominato)\n",
    "df_produttivita_numeric_casted = caster.to_numeric(num_cols)\n",
    "\n",
    "print(df_produttivita_numeric_casted.head())"
   ]
  },
  {
   "cell_type": "code",
   "execution_count": null,
   "id": "55eaab86",
   "metadata": {},
   "outputs": [],
   "source": [
    "import utils.csv_transformer\n",
    "\n",
    "importlib.reload(utils.csv_transformer)\n",
    "\n",
    "from utils.csv_transformer import CsvTransformer\n",
    "\n",
    "cleaner = CsvTransformer(df_andamento_numeric_casted)\n",
    "df_andamento_normalized = cleaner.get_cleaned()\n",
    "\n",
    "print(df_andamento_normalized.head())"
   ]
  },
  {
   "cell_type": "code",
   "execution_count": null,
   "id": "fe698fcd",
   "metadata": {},
   "outputs": [],
   "source": [
    "cleaner = CsvTransformer(df_importanza_numeric_casted)\n",
    "df_importanza_normalized = cleaner.get_cleaned()\n",
    "\n",
    "print(df_importanza_normalized.head())"
   ]
  },
  {
   "cell_type": "code",
   "execution_count": null,
   "id": "70044210",
   "metadata": {},
   "outputs": [],
   "source": [
    "cleaner = CsvTransformer(df_produttivita_numeric_casted)\n",
    "df_produttivita_normalized = cleaner.get_cleaned()\n",
    "\n",
    "print(df_produttivita_normalized.head())"
   ]
  },
  {
   "cell_type": "code",
   "execution_count": null,
   "id": "853726cd",
   "metadata": {},
   "outputs": [],
   "source": [
    "import services.csv_exporter\n",
    "\n",
    "importlib.reload(services.csv_exporter)\n",
    "\n",
    "from services.csv_exporter import CsvExporter\n",
    "\n",
    "exporter = CsvExporter()\n",
    "exporter.export(df_andamento_normalized, 'andamento_clean.csv')\n",
    "exporter.export(df_importanza_normalized, 'importanza_clean.csv')\n",
    "exporter.export(df_produttivita_normalized, 'produttivita_clean.csv')"
   ]
  }
 ],
 "metadata": {
  "kernelspec": {
   "display_name": ".economia_pesca_it_venv",
   "language": "python",
   "name": "python3"
  },
  "language_info": {
   "codemirror_mode": {
    "name": "ipython",
    "version": 3
   },
   "file_extension": ".py",
   "mimetype": "text/x-python",
   "name": "python",
   "nbconvert_exporter": "python",
   "pygments_lexer": "ipython3",
   "version": "3.12.6"
  }
 },
 "nbformat": 4,
 "nbformat_minor": 5
}
