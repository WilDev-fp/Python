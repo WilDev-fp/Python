{
 "cells": [
  {
   "cell_type": "code",
   "execution_count": null,
   "id": "def8b31f",
   "metadata": {},
   "outputs": [],
   "source": [
    "import sys\n",
    "import os\n",
    "import importlib\n",
    "\n",
    "# Aggiungi la root del progetto (un livello sopra notebooks/) a sys.path\n",
    "sys.path.append(os.path.abspath('..'))\n"
   ]
  },
  {
   "cell_type": "code",
   "execution_count": null,
   "id": "e5680070",
   "metadata": {},
   "outputs": [],
   "source": [
    "import utils.csv_loader\n",
    "importlib.reload(utils.csv_loader)\n",
    "\n",
    "from utils.csv_loader import CsvLoader\n",
    "\n",
    "# Percorso del file CSV (usa path relativo)\n",
    "csv_path = \"../static/Andamento occupazione del settore della pesca per regione_0.csv\"\n",
    "\n",
    "try:\n",
    "    # encoding='latin1'  → Vecchi file Windows/Europa occidentale\n",
    "    # encoding='cp1252'  → Variante Windows, gestisce più simboli (€ ecc.)\n",
    "    # encoding='utf-8-sig' → Da usare se la prima colonna ha caratteri strani (BOM UTF-8), tipico da Excel\n",
    "    # Provare diversi encoding se si vedono caratteri strani nei dati/colonne!\n",
    "    loader = CsvLoader(csv_path,';','utf-8-sig')\n",
    "    df_Andamento = loader.load()\n",
    "    print(\"Dati caricati correttamente:\")\n",
    "    print(df_Andamento.head())\n",
    "except Exception as e:\n",
    "    print(f\"Errore nel caricamento: {e}\")\n",
    "    raise"
   ]
  },
  {
   "cell_type": "code",
   "execution_count": null,
   "id": "7098e4c0",
   "metadata": {},
   "outputs": [],
   "source": [
    "import utils.csv_loader\n",
    "importlib.reload(utils.csv_loader)\n",
    "\n",
    "from utils.csv_loader import CsvLoader\n",
    "\n",
    "# Percorso del file CSV (usa path relativo)\n",
    "csv_path = \"../static/Importanza economica del settore della pesca per regione.csv\"\n",
    "\n",
    "try:\n",
    "    # encoding='latin1'  → Vecchi file Windows/Europa occidentale\n",
    "    # encoding='cp1252'  → Variante Windows, gestisce più simboli (€ ecc.)\n",
    "    # encoding='utf-8-sig' → Da usare se la prima colonna ha caratteri strani (BOM UTF-8), tipico da Excel\n",
    "    # Provare diversi encoding se si vedono caratteri strani nei dati/colonne!\n",
    "    loader = CsvLoader(csv_path,';','utf-8-sig')\n",
    "    df_Importanza = loader.load()\n",
    "    print(\"Dati caricati correttamente:\")\n",
    "    print(df_Importanza.head())\n",
    "except Exception as e:\n",
    "    print(f\"Errore nel caricamento: {e}\")\n",
    "    raise"
   ]
  },
  {
   "cell_type": "code",
   "execution_count": null,
   "id": "d12ac746",
   "metadata": {},
   "outputs": [],
   "source": [
    "import utils.csv_loader\n",
    "importlib.reload(utils.csv_loader)\n",
    "\n",
    "from utils.csv_loader import CsvLoader\n",
    "\n",
    "# Percorso del file CSV (usa path relativo)\n",
    "csv_path = \"../static/Produttività del settore della pesca per regione.csv\"\n",
    "\n",
    "try:\n",
    "    # encoding='latin1'  → Vecchi file Windows/Europa occidentale\n",
    "    # encoding='cp1252'  → Variante Windows, gestisce più simboli (€ ecc.)\n",
    "    # encoding='utf-8-sig' → Da usare se la prima colonna ha caratteri strani (BOM UTF-8), tipico da Excel\n",
    "    # Provare diversi encoding se si vedono caratteri strani nei dati/colonne!\n",
    "    loader = CsvLoader(csv_path,';','utf-8-sig')\n",
    "    df_Produttivita = loader.load()\n",
    "    print(\"Dati caricati correttamente:\")\n",
    "    print(df_Produttivita.head())\n",
    "except Exception as e:\n",
    "    print(f\"Errore nel caricamento: {e}\")\n",
    "    raise"
   ]
  },
  {
   "cell_type": "code",
   "execution_count": null,
   "id": "de1a3ca8",
   "metadata": {},
   "outputs": [],
   "source": [
    "print(\"Record iniziali Andamento:\", len(df_Andamento))\n",
    "print(\"Record iniziali Importanza:\", len(df_Importanza))\n",
    "print(\"Record iniziali Produttività:\", len(df_Produttivita))"
   ]
  }
 ],
 "metadata": {
  "kernelspec": {
   "display_name": ".economia_pesca_it_venv",
   "language": "python",
   "name": "python3"
  },
  "language_info": {
   "codemirror_mode": {
    "name": "ipython",
    "version": 3
   },
   "file_extension": ".py",
   "mimetype": "text/x-python",
   "name": "python",
   "nbconvert_exporter": "python",
   "pygments_lexer": "ipython3",
   "version": "3.12.6"
  }
 },
 "nbformat": 4,
 "nbformat_minor": 5
}
