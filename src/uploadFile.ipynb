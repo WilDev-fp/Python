{
 "cells": [
  {
   "cell_type": "code",
   "execution_count": 67,
   "id": "c16212b2",
   "metadata": {},
   "outputs": [
    {
     "name": "stdout",
     "output_type": "stream",
     "text": [
      "Dati caricati correttamente:\n",
      "   codice_record  id_punto_campionamento  \\\n",
      "0            265                     200   \n",
      "1            282                     201   \n",
      "2            283                     202   \n",
      "3            408                     203   \n",
      "4            409                     204   \n",
      "\n",
      "                                          nome_punto               Comune  \\\n",
      "0  punto1 - cono di deiezione nei pressi del matt...  SAN SEVERINO LUCANO   \n",
      "1  punto 2 - piazzola di sosta sottostante un pic...  SAN SEVERINO LUCANO   \n",
      "2            punto 3 - strada sterrata per 3 confini  SAN SEVERINO LUCANO   \n",
      "3            loc. Rondinelle - complanare nord MT-BA               MATERA   \n",
      "4            loc. Rondinelle - complanare nord MT-BA               MATERA   \n",
      "\n",
      "   id_campionamento                               descrizione_campione  \\\n",
      "0               580         cono di deiezione nei pressi del mattatoio   \n",
      "1               581  piazzola di sosta sottostante un piccolo front...   \n",
      "2               582                       materiale del fondo stradale   \n",
      "3               583                         frammento di canna fumaria   \n",
      "4               584                             frammento di comignolo   \n",
      "\n",
      "  tipo_attività data_campionamento impianto  \\\n",
      "0  su richiesta         30/01/2024      NaN   \n",
      "1  su richiesta         30/01/2024      NaN   \n",
      "2  su richiesta         30/01/2024      NaN   \n",
      "3  su richiesta         08/02/2024      NaN   \n",
      "4  su richiesta         08/02/2024      NaN   \n",
      "\n",
      "                            campagna  ...               metodica  \\\n",
      "0  non riferito a specifica campagna  ...  Progetto 4C APAT-ARPA   \n",
      "1  non riferito a specifica campagna  ...  Progetto 4C APAT-ARPA   \n",
      "2  non riferito a specifica campagna  ...  Progetto 4C APAT-ARPA   \n",
      "3  non riferito a specifica campagna  ...  Progetto 4C APAT-ARPA   \n",
      "4  non riferito a specifica campagna  ...  Progetto 4C APAT-ARPA   \n",
      "\n",
      "   limite_normativo valore_riferimento_non_normativo                  norma  \\\n",
      "0               0,1                             -999  DLgs. 152/06 e s.m.i.   \n",
      "1               0,1                             -999  DLgs. 152/06 e s.m.i.   \n",
      "2               0,1                             -999  DLgs. 152/06 e s.m.i.   \n",
      "3                 0                             -999            DM 06/09/94   \n",
      "4                 0                             -999            DM 06/09/94   \n",
      "\n",
      "     fonte         um esito_normativo  esito_sul_valore_riferimento  \\\n",
      "0  nessuna  % in peso    non conforme  nessun valore di riferimento   \n",
      "1  nessuna  % in peso    non conforme  nessun valore di riferimento   \n",
      "2  nessuna  % in peso    non conforme  nessun valore di riferimento   \n",
      "3  nessuna  % in peso    non conforme  nessun valore di riferimento   \n",
      "4  nessuna  % in peso    non conforme  nessun valore di riferimento   \n",
      "\n",
      "                pacchetto_analisi tipo_amianto_rilevato  \n",
      "0  rocce/terreni/sedimenti - FTIR             tremolite  \n",
      "1  rocce/terreni/sedimenti - FTIR             tremolite  \n",
      "2  rocce/terreni/sedimenti - FTIR             tremolite  \n",
      "3        rifiuti/manufatti - FTIR             crisotilo  \n",
      "4        rifiuti/manufatti - FTIR             crisotilo  \n",
      "\n",
      "[5 rows x 28 columns]\n",
      "Record iniziali: 54\n"
     ]
    }
   ],
   "source": [
    "import pandas as pd\n",
    "\n",
    "import importlib\n",
    "\n",
    "import file_loader\n",
    "importlib.reload(file_loader)\n",
    "\n",
    "from file_loader import FileLoader\n",
    "\n",
    "# Percorso del file CSV (usa path relativo)\n",
    "csv_path = \"../data/input/determinazioni_amianto_2024.csv\"\n",
    "# Leggi il CSV con pandas\n",
    "try:\n",
    "    # encoding='latin1'  → Vecchi file Windows/Europa occidentale\n",
    "    # encoding='cp1252'  → Variante Windows, gestisce più simboli (€ ecc.)\n",
    "    # encoding='utf-8-sig' → Da usare se la prima colonna ha caratteri strani (BOM UTF-8), tipico da Excel\n",
    "    # Provare diversi encoding se si vedono caratteri strani nei dati/colonne!\n",
    "    loader = FileLoader(csv_path,';','utf-8-sig')\n",
    "    df = loader.load()\n",
    "    print(\"Dati caricati correttamente:\")\n",
    "    print(df.head())\n",
    "    print(\"Record iniziali:\", len(df))\n",
    "except Exception as e:\n",
    "    print(f\"Errore nel caricamento: {e}\")\n",
    "    raise\n",
    "\n"
   ]
  },
  {
   "cell_type": "code",
   "execution_count": 68,
   "id": "f4cf898d",
   "metadata": {},
   "outputs": [
    {
     "name": "stdout",
     "output_type": "stream",
     "text": [
      "   codice_record  id_punto_campionamento  \\\n",
      "0            265                     200   \n",
      "1            282                     201   \n",
      "2            283                     202   \n",
      "3            408                     203   \n",
      "4            409                     204   \n",
      "\n",
      "                                          nome_punto               comune  \\\n",
      "0  punto1 - cono di deiezione nei pressi del matt...  san severino lucano   \n",
      "1  punto 2 - piazzola di sosta sottostante un pic...  san severino lucano   \n",
      "2            punto 3 - strada sterrata per 3 confini  san severino lucano   \n",
      "3            loc. Rondinelle - complanare nord MT-BA               matera   \n",
      "4            loc. Rondinelle - complanare nord MT-BA               matera   \n",
      "\n",
      "   id_campionamento                               descrizione_campione  \\\n",
      "0               580         cono di deiezione nei pressi del mattatoio   \n",
      "1               581  piazzola di sosta sottostante un piccolo front...   \n",
      "2               582                       materiale del fondo stradale   \n",
      "3               583                         frammento di canna fumaria   \n",
      "4               584                             frammento di comignolo   \n",
      "\n",
      "  tipo_attivita data_campionamento impianto  \\\n",
      "0  su richiesta         2024-01-30     N.A.   \n",
      "1  su richiesta         2024-01-30     N.A.   \n",
      "2  su richiesta         2024-01-30     N.A.   \n",
      "3  su richiesta         2024-02-08     N.A.   \n",
      "4  su richiesta         2024-02-08     N.A.   \n",
      "\n",
      "                            campagna  ...               metodica  \\\n",
      "0  non riferito a specifica campagna  ...  Progetto 4C APAT-ARPA   \n",
      "1  non riferito a specifica campagna  ...  Progetto 4C APAT-ARPA   \n",
      "2  non riferito a specifica campagna  ...  Progetto 4C APAT-ARPA   \n",
      "3  non riferito a specifica campagna  ...  Progetto 4C APAT-ARPA   \n",
      "4  non riferito a specifica campagna  ...  Progetto 4C APAT-ARPA   \n",
      "\n",
      "   limite_normativo valore_riferimento_non_normativo                  norma  \\\n",
      "0               0.1                             -999  DLgs. 152/06 e s.m.i.   \n",
      "1               0.1                             -999  DLgs. 152/06 e s.m.i.   \n",
      "2               0.1                             -999  DLgs. 152/06 e s.m.i.   \n",
      "3               0.0                             -999            DM 06/09/94   \n",
      "4               0.0                             -999            DM 06/09/94   \n",
      "\n",
      "     fonte         um esito_normativo  esito_sul_valore_riferimento  \\\n",
      "0  nessuna  % in peso    non conforme  nessun valore di riferimento   \n",
      "1  nessuna  % in peso    non conforme  nessun valore di riferimento   \n",
      "2  nessuna  % in peso    non conforme  nessun valore di riferimento   \n",
      "3  nessuna  % in peso    non conforme  nessun valore di riferimento   \n",
      "4  nessuna  % in peso    non conforme  nessun valore di riferimento   \n",
      "\n",
      "                pacchetto_analisi  tipo_amianto_rilevato  \n",
      "0  rocce/terreni/sedimenti - FTIR              tremolite  \n",
      "1  rocce/terreni/sedimenti - FTIR              tremolite  \n",
      "2  rocce/terreni/sedimenti - FTIR              tremolite  \n",
      "3        rifiuti/manufatti - FTIR              crisotilo  \n",
      "4        rifiuti/manufatti - FTIR              crisotilo  \n",
      "\n",
      "[5 rows x 28 columns]\n",
      "Record dopo cleaning: 45\n"
     ]
    }
   ],
   "source": [
    "import importlib\n",
    "\n",
    "import amianto_cleaner\n",
    "importlib.reload(amianto_cleaner)\n",
    "\n",
    "from amianto_cleaner import AmiantoCleaner\n",
    "\n",
    "cleaner = AmiantoCleaner(df)\n",
    "df_clean = cleaner.get_cleaned()\n",
    "print(df_clean.head())\n",
    "print(\"Record dopo cleaning:\", len(df_clean))"
   ]
  },
  {
   "cell_type": "code",
   "execution_count": 69,
   "id": "681ee537",
   "metadata": {},
   "outputs": [
    {
     "name": "stdout",
     "output_type": "stream",
     "text": [
      "Totale record in SQLite: 45\n"
     ]
    }
   ],
   "source": [
    "import sqlite3\n",
    "\n",
    "# Crea o apre il file database\n",
    "conn = sqlite3.connect(\"../data/db/report.db\")  # crea il file se non esiste\n",
    "\n",
    "# Salva il DataFrame in una tabella chiamata, ad esempio, \"amianto\"\n",
    "df_clean.to_sql(\"amianto\", conn, if_exists=\"replace\", index=False)\n",
    "\n",
    "result = conn.execute(\"SELECT COUNT(*) FROM amianto\").fetchone()\n",
    "print(\"Totale record in SQLite:\", result[0])\n",
    "\n",
    "conn.close()\n"
   ]
  },
  {
   "cell_type": "code",
   "execution_count": null,
   "id": "77119c8c",
   "metadata": {},
   "outputs": [
    {
     "data": {
      "image/png": "[encoded data removed]",
      "text/plain": [
       "<Figure size 640x480 with 1 Axes>"
      ]
     },
     "metadata": {},
     "output_type": "display_data"
    }
   ],
   "source": [
    "import matplotlib.pyplot as plt\n",
    "\n",
    "df_clean['concentrazione'] = pd.to_numeric(df_clean['concentrazione'], errors='coerce')\n",
    "df_clean.groupby('comune')['concentrazione'].mean().plot(kind='bar')\n",
    "plt.title('Concentrazione media per Comune')\n",
    "plt.ylabel('Concentrazione')\n",
    "plt.show()"
   ]
  },
  {
   "cell_type": "code",
   "execution_count": 75,
   "id": "cefe03ef",
   "metadata": {},
   "outputs": [
    {
     "data": {
      "image/png": "[encoded data removed]",
      "text/plain": [
       "<Figure size 640x480 with 1 Axes>"
      ]
     },
     "metadata": {},
     "output_type": "display_data"
    }
   ],
   "source": [
    "df_clean['concentrazione'].plot(kind='hist', bins=30)\n",
    "plt.title(\"Distribuzione delle concentrazioni di amianto\")\n",
    "plt.xlabel(\"Concentrazione\")\n",
    "plt.ylabel(\"Numero campioni\")\n",
    "plt.show()"
   ]
  }
 ],
 "metadata": {
  "kernelspec": {
   "display_name": ".venv",
   "language": "python",
   "name": "python3"
  },
  "language_info": {
   "codemirror_mode": {
    "name": "ipython",
    "version": 3
   },
   "file_extension": ".py",
   "mimetype": "text/x-python",
   "name": "python",
   "nbconvert_exporter": "python",
   "pygments_lexer": "ipython3",
   "version": "3.12.6"
  }
 },
 "nbformat": 4,
 "nbformat_minor": 5
}
