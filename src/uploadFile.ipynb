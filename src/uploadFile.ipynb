{
 "cells": [
  {
   "cell_type": "code",
   "execution_count": null,
   "id": "c16212b2",
   "metadata": {},
   "outputs": [],
   "source": [
    "import pandas as pd\n",
    "\n",
    "import importlib\n",
    "\n",
    "import file_loader\n",
    "importlib.reload(file_loader)\n",
    "\n",
    "from file_loader import FileLoader\n",
    "\n",
    "# Percorso del file CSV (usa path relativo)\n",
    "csv_path = \"../data/input/determinazioni_amianto_2024.csv\"\n",
    "# Leggi il CSV con pandas\n",
    "try:\n",
    "    # encoding='latin1'  → Vecchi file Windows/Europa occidentale\n",
    "    # encoding='cp1252'  → Variante Windows, gestisce più simboli (€ ecc.)\n",
    "    # encoding='utf-8-sig' → Da usare se la prima colonna ha caratteri strani (BOM UTF-8), tipico da Excel\n",
    "    # Provare diversi encoding se si vedono caratteri strani nei dati/colonne!\n",
    "    loader = FileLoader(csv_path,';','utf-8-sig')\n",
    "    df = loader.load()\n",
    "    print(\"Dati caricati correttamente:\")\n",
    "    print(df.head())\n",
    "    print(\"Record iniziali:\", len(df))\n",
    "except Exception as e:\n",
    "    print(f\"Errore nel caricamento: {e}\")\n",
    "    raise\n",
    "\n"
   ]
  },
  {
   "cell_type": "code",
   "execution_count": null,
   "id": "f4cf898d",
   "metadata": {},
   "outputs": [],
   "source": [
    "import importlib\n",
    "\n",
    "import amianto_cleaner\n",
    "importlib.reload(amianto_cleaner)\n",
    "\n",
    "from amianto_cleaner import AmiantoCleaner\n",
    "\n",
    "cleaner = AmiantoCleaner(df)\n",
    "df_clean = cleaner.get_cleaned()\n",
    "print(df_clean.head())\n",
    "print(\"Record dopo cleaning:\", len(df_clean))"
   ]
  },
  {
   "cell_type": "code",
   "execution_count": 64,
   "id": "681ee537",
   "metadata": {},
   "outputs": [
    {
     "name": "stdout",
     "output_type": "stream",
     "text": [
      "Totale record in SQLite: 45\n"
     ]
    }
   ],
   "source": [
    "import sqlite3\n",
    "\n",
    "# Crea o apre il file database\n",
    "conn = sqlite3.connect(\"../data/db/report.db\")  # crea il file se non esiste\n",
    "\n",
    "# Salva il DataFrame in una tabella chiamata, ad esempio, \"amianto\"\n",
    "df_clean.to_sql(\"amianto\", conn, if_exists=\"replace\", index=False)\n",
    "\n",
    "result = conn.execute(\"SELECT COUNT(*) FROM amianto\").fetchone()\n",
    "print(\"Totale record in SQLite:\", result[0])\n",
    "\n",
    "conn.close()\n"
   ]
  }
 ],
 "metadata": {
  "kernelspec": {
   "display_name": ".venv",
   "language": "python",
   "name": "python3"
  },
  "language_info": {
   "codemirror_mode": {
    "name": "ipython",
    "version": 3
   },
   "file_extension": ".py",
   "mimetype": "text/x-python",
   "name": "python",
   "nbconvert_exporter": "python",
   "pygments_lexer": "ipython3",
   "version": "3.12.6"
  }
 },
 "nbformat": 4,
 "nbformat_minor": 5
}
